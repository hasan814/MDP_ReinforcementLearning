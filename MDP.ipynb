{
 "cells": [
  {
   "cell_type": "markdown",
   "metadata": {},
   "source": []
  },
  {
   "cell_type": "code",
   "execution_count": 20,
   "metadata": {},
   "outputs": [],
   "source": [
    "import gym\n",
    "import numpy as np\n",
    "from IPython import display\n",
    "from envs import Maze\n",
    "import matplotlib.pyplot as plt"
   ]
  },
  {
   "cell_type": "code",
   "execution_count": 3,
   "metadata": {},
   "outputs": [],
   "source": [
    "env = Maze()"
   ]
  },
  {
   "cell_type": "code",
   "execution_count": 4,
   "metadata": {},
   "outputs": [
    {
     "name": "stdout",
     "output_type": "stream",
     "text": [
      "initial_State:(0, 0)\n"
     ]
    }
   ],
   "source": [
    "initial_state = env.reset()\n",
    "print(f'initial_State:{initial_state}')"
   ]
  },
  {
   "cell_type": "code",
   "execution_count": 5,
   "metadata": {},
   "outputs": [
    {
     "data": {
      "text/plain": [
       "<matplotlib.image.AxesImage at 0x272c22ce960>"
      ]
     },
     "execution_count": 5,
     "metadata": {},
     "output_type": "execute_result"
    },
    {
     "data": {
      "image/png": "[encoded data removed]",
      "text/plain": [
       "<Figure size 640x480 with 1 Axes>"
      ]
     },
     "metadata": {},
     "output_type": "display_data"
    }
   ],
   "source": [
    "frame = env.render(mode='rgb_array')\n",
    "plt.axis('off')\n",
    "plt.title(f'State:{initial_state}')\n",
    "plt.imshow(frame)"
   ]
  },
  {
   "cell_type": "code",
   "execution_count": 6,
   "metadata": {},
   "outputs": [
    {
     "name": "stdout",
     "output_type": "stream",
     "text": [
      "Next State & Reward are : (1, 0), -1.0\n"
     ]
    }
   ],
   "source": [
    "action = 2\n",
    "next_state, reward, done, info = env.step(action)\n",
    "print(f'Next State & Reward are : {next_state}, {reward}')"
   ]
  },
  {
   "cell_type": "code",
   "execution_count": 7,
   "metadata": {},
   "outputs": [
    {
     "data": {
      "text/plain": [
       "<matplotlib.image.AxesImage at 0x272c04a0b30>"
      ]
     },
     "execution_count": 7,
     "metadata": {},
     "output_type": "execute_result"
    },
    {
     "data": {
      "image/png": "[encoded data removed]",
      "text/plain": [
       "<Figure size 640x480 with 1 Axes>"
      ]
     },
     "metadata": {},
     "output_type": "display_data"
    }
   ],
   "source": [
    "frame = env.render(mode='rgb_array')\n",
    "plt.axis('off')\n",
    "plt.title(f'State:{next_state}')\n",
    "plt.imshow(frame)"
   ]
  },
  {
   "cell_type": "code",
   "execution_count": 8,
   "metadata": {},
   "outputs": [
    {
     "name": "stdout",
     "output_type": "stream",
     "text": [
      "The space state type:MultiDiscrete([5 5])\n"
     ]
    }
   ],
   "source": [
    "print(f'The space state type:{env.observation_space}')"
   ]
  },
  {
   "cell_type": "code",
   "execution_count": 10,
   "metadata": {},
   "outputs": [
    {
     "name": "stdout",
     "output_type": "stream",
     "text": [
      "Trajectory:\n",
      " [[(0, 0), 3, -1.0, False, (0, 0)], [(0, 0), 2, -1.0, False, (1, 0)], [(1, 0), 0, -1.0, False, (0, 0)]]\n"
     ]
    }
   ],
   "source": [
    "env = Maze()\n",
    "state = env.reset()\n",
    "trajectory = []\n",
    "for _ in range(3):\n",
    "    action = env.action_space.sample()\n",
    "    next_state, reward, done, extra_info = env.step(action)\n",
    "    trajectory.append([state, action, reward, done, next_state])\n",
    "    state = next_state\n",
    "env.close()\n",
    "print(f'Trajectory:\\n {trajectory}')"
   ]
  },
  {
   "cell_type": "code",
   "execution_count": 16,
   "metadata": {},
   "outputs": [
    {
     "name": "stdout",
     "output_type": "stream",
     "text": [
      "Episode:\n",
      " [[(0, 0), 3, -1.0, False, (0, 0)], [(0, 0), 0, -1.0, False, (0, 0)], [(0, 0), 2, -1.0, False, (1, 0)], [(0, 0), 2, -1.0, False, (2, 0)], [(0, 0), 0, -1.0, False, (1, 0)], [(0, 0), 1, -1.0, False, (1, 0)], [(0, 0), 1, -1.0, False, (1, 0)], [(0, 0), 2, -1.0, False, (2, 0)], [(0, 0), 2, -1.0, False, (3, 0)], [(0, 0), 2, -1.0, False, (4, 0)], [(0, 0), 2, -1.0, False, (4, 0)], [(0, 0), 0, -1.0, False, (3, 0)], [(0, 0), 3, -1.0, False, (3, 0)], [(0, 0), 3, -1.0, False, (3, 0)], [(0, 0), 2, -1.0, False, (4, 0)], [(0, 0), 1, -1.0, False, (4, 1)], [(0, 0), 2, -1.0, False, (4, 1)], [(0, 0), 3, -1.0, False, (4, 0)], [(0, 0), 2, -1.0, False, (4, 0)], [(0, 0), 2, -1.0, False, (4, 0)], [(0, 0), 1, -1.0, False, (4, 1)], [(0, 0), 0, -1.0, False, (4, 1)], [(0, 0), 0, -1.0, False, (4, 1)], [(0, 0), 3, -1.0, False, (4, 0)], [(0, 0), 0, -1.0, False, (3, 0)], [(0, 0), 3, -1.0, False, (3, 0)], [(0, 0), 3, -1.0, False, (3, 0)], [(0, 0), 1, -1.0, False, (3, 0)], [(0, 0), 2, -1.0, False, (4, 0)], [(0, 0), 2, -1.0, False, (4, 0)], [(0, 0), 3, -1.0, False, (4, 0)], [(0, 0), 1, -1.0, False, (4, 1)], [(0, 0), 1, -1.0, False, (4, 2)], [(0, 0), 0, -1.0, False, (3, 2)], [(0, 0), 1, -1.0, False, (3, 3)], [(0, 0), 2, -1.0, False, (4, 3)], [(0, 0), 3, -1.0, False, (4, 3)], [(0, 0), 0, -1.0, False, (3, 3)], [(0, 0), 3, -1.0, False, (3, 2)], [(0, 0), 3, -1.0, False, (3, 2)], [(0, 0), 0, -1.0, False, (3, 2)], [(0, 0), 3, -1.0, False, (3, 2)], [(0, 0), 3, -1.0, False, (3, 2)], [(0, 0), 2, -1.0, False, (4, 2)], [(0, 0), 0, -1.0, False, (3, 2)], [(0, 0), 0, -1.0, False, (3, 2)], [(0, 0), 0, -1.0, False, (3, 2)], [(0, 0), 3, -1.0, False, (3, 2)], [(0, 0), 1, -1.0, False, (3, 3)], [(0, 0), 1, -1.0, False, (3, 4)], [(0, 0), 0, -1.0, False, (3, 4)], [(0, 0), 1, -1.0, False, (3, 4)], [(0, 0), 1, -1.0, False, (3, 4)], [(0, 0), 3, -1.0, False, (3, 3)], [(0, 0), 1, -1.0, False, (3, 4)], [(0, 0), 2, -1.0, True, (4, 4)]]\n"
     ]
    }
   ],
   "source": [
    "env=Maze()\n",
    "state=env.reset()\n",
    "episode=[]\n",
    "done=False\n",
    "while not done:\n",
    "    action=env.action_space.sample()\n",
    "    next_state, reward, done, extra_info = env.step(action)\n",
    "    episode.append([state, action, reward, done, next_state])\n",
    "env.close()\n",
    "print(f'Episode:\\n {episode}')"
   ]
  },
  {
   "cell_type": "code",
   "execution_count": 17,
   "metadata": {},
   "outputs": [
    {
     "name": "stdout",
     "output_type": "stream",
     "text": [
      "We achieved a reward of -1.0 by taking action 3 in state(0, 0)\n"
     ]
    }
   ],
   "source": [
    "env = Maze()\n",
    "state = env.reset()\n",
    "action = env.action_space.sample()\n",
    "_, reward, _, _=env.step(action)\n",
    "print(f'We achieved a reward of {reward} by taking action {action} in state{state}')"
   ]
  },
  {
   "cell_type": "code",
   "execution_count": 19,
   "metadata": {},
   "outputs": [
    {
     "name": "stdout",
     "output_type": "stream",
     "text": [
      "It took 284 with the return of -94.24036097430579\n"
     ]
    }
   ],
   "source": [
    "env = Maze()\n",
    "state = env.reset()\n",
    "done = False\n",
    "gamma = 0.99\n",
    "G_0 = 0\n",
    "t = 0\n",
    "while not done:\n",
    "    action = env.action_space.sample()\n",
    "    _, reward, done, _ = env.step(action)\n",
    "    G_0 += gamma ** t * reward\n",
    "    t += 1\n",
    "env.close()\n",
    "print(f\"\"\"It took {t} with the return of {G_0}\"\"\")\n"
   ]
  },
  {
   "cell_type": "code",
   "execution_count": 21,
   "metadata": {},
   "outputs": [],
   "source": [
    "def random_policy(state):\n",
    "    return np.array([0.25]*4)\n",
    "env = Maze()\n",
    "state = env.reset()\n",
    "action_probabilities = random_policy(state)\n"
   ]
  },
  {
   "cell_type": "code",
   "execution_count": 24,
   "metadata": {},
   "outputs": [
    {
     "data": {
      "image/png": "[encoded data removed]",
      "text/plain": [
       "<Figure size 640x480 with 1 Axes>"
      ]
     },
     "metadata": {},
     "output_type": "display_data"
    }
   ],
   "source": [
    "objects = ('UP', 'Right', 'Down', 'Left')\n",
    "y_pos = np.arange(len(objects))\n",
    "\n",
    "plt.bar(y_pos, action_probabilities, alpha=0.5)\n",
    "plt.xticks(y_pos, objects)\n",
    "plt.ylabel('P(a|s)')\n",
    "plt.title('Random Policy')\n",
    "plt.tight_layout()\n",
    "plt.show()"
   ]
  },
  {
   "cell_type": "code",
   "execution_count": 29,
   "metadata": {},
   "outputs": [
    {
     "data": {
      "image/png": "[encoded data removed]",
      "text/plain": [
       "<Figure size 640x480 with 1 Axes>"
      ]
     },
     "metadata": {},
     "output_type": "display_data"
    }
   ],
   "source": [
    "env.reset()\n",
    "done = False\n",
    "img = plt.imshow(env.render(mode='rgb_array'))\n",
    "while not done:\n",
    "    action = np.random.choice(range(4), 1, p=action_probabilities)\n",
    "    _, _, done, _ = env.step(action)\n",
    "    img.set_data(env.render(mode='rgb_array'))\n",
    "    plt.axis('off')\n",
    "    display.display(plt.gcf())\n",
    "    display.clear_output(wait=True)\n",
    "env.close()"
   ]
  },
  {
   "cell_type": "code",
   "execution_count": null,
   "metadata": {},
   "outputs": [],
   "source": []
  }
 ],
 "metadata": {
  "kernelspec": {
   "display_name": "Python 3",
   "language": "python",
   "name": "python3"
  },
  "language_info": {
   "codemirror_mode": {
    "name": "ipython",
    "version": 3
   },
   "file_extension": ".py",
   "mimetype": "text/x-python",
   "name": "python",
   "nbconvert_exporter": "python",
   "pygments_lexer": "ipython3",
   "version": "3.12.3"
  }
 },
 "nbformat": 4,
 "nbformat_minor": 2
}
